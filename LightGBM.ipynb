{
  "nbformat": 4,
  "nbformat_minor": 0,
  "metadata": {
    "colab": {
      "name": "LightGBM.ipynb",
      "provenance": [],
      "authorship_tag": "ABX9TyMQ95cqK2pi230XcjfsrqZ0",
      "include_colab_link": true
    },
    "kernelspec": {
      "name": "python3",
      "display_name": "Python 3"
    }
  },
  "cells": [
    {
      "cell_type": "markdown",
      "metadata": {
        "id": "view-in-github",
        "colab_type": "text"
      },
      "source": [
        "<a href=\"https://colab.research.google.com/github/belugarose/gbdt/blob/master/LightGBM.ipynb\" target=\"_parent\"><img src=\"https://colab.research.google.com/assets/colab-badge.svg\" alt=\"Open In Colab\"/></a>"
      ]
    },
    {
      "cell_type": "code",
      "metadata": {
        "id": "VsqYZs7_evig",
        "colab_type": "code",
        "colab": {}
      },
      "source": [
        "import lightgbm  as lgb\n",
        "from sklearn.metrics import mean_squared_error\n",
        "from sklearn.model_selection import GridSearchCV\n",
        "from sklearn.datasets import load_iris\n",
        "from sklearn.model_selection import train_test_split"
      ],
      "execution_count": 3,
      "outputs": []
    },
    {
      "cell_type": "code",
      "metadata": {
        "id": "GIFzJci0lrrY",
        "colab_type": "code",
        "colab": {}
      },
      "source": [
        "# 加载数据\n",
        "iris = load_iris()\n",
        "data = iris.data\n",
        "target = iris.target\n",
        "X_train, X_test, y_train, y_test = train_test_split(data, target, test_size=0.2)"
      ],
      "execution_count": 12,
      "outputs": []
    },
    {
      "cell_type": "code",
      "metadata": {
        "id": "LwGOW5MWmjK4",
        "colab_type": "code",
        "colab": {}
      },
      "source": [
        "# 创建并训练模型\n",
        "gbm = lgb.LGBMRegressor(objective='regression', num_leaves=31, learning_rate=0.05, n_estimators=20)\n",
        "gbm.fit(X_train, y_train, eval_set=[(X_test, y_test)], eval_metric='l1', early_stopping_rounds=5)"
      ],
      "execution_count": null,
      "outputs": []
    },
    {
      "cell_type": "code",
      "metadata": {
        "id": "Wbv6RhJinNWE",
        "colab_type": "code",
        "colab": {}
      },
      "source": [
        "# 测试机预测\n",
        "y_pred = gbm.predict(X_test, num_iteration=gbm.best_iteration_)"
      ],
      "execution_count": 33,
      "outputs": []
    },
    {
      "cell_type": "code",
      "metadata": {
        "id": "fg5VhZOsnaLB",
        "colab_type": "code",
        "colab": {
          "base_uri": "https://localhost:8080/",
          "height": 34
        },
        "outputId": "68c7d792-99a4-498a-bc7c-08525e1aeef9"
      },
      "source": [
        "# 模型评估\n",
        "print(\"The rmse of prediction is:\" , mean_squared_error(y_test, y_pred)**0.5)"
      ],
      "execution_count": 34,
      "outputs": [
        {
          "output_type": "stream",
          "text": [
            "The rmse of prediction is: 0.3577221065667986\n"
          ],
          "name": "stdout"
        }
      ]
    },
    {
      "cell_type": "code",
      "metadata": {
        "id": "yfHkWxA3nvqR",
        "colab_type": "code",
        "colab": {
          "base_uri": "https://localhost:8080/",
          "height": 34
        },
        "outputId": "1f784ed4-59ac-4f81-e465-67cc12b23b1c"
      },
      "source": [
        "# feature importances\n",
        "print('Feature importances:', list(gbm.feature_importances_))"
      ],
      "execution_count": 18,
      "outputs": [
        {
          "output_type": "stream",
          "text": [
            "Feature importances: [4, 1, 36, 17]\n"
          ],
          "name": "stdout"
        }
      ]
    },
    {
      "cell_type": "code",
      "metadata": {
        "id": "fGNF1AjunySv",
        "colab_type": "code",
        "colab": {}
      },
      "source": [
        "# 网格搜索，参数优化\n",
        "estimator = lgb.LGBMRegressor(num_leaves=31)\n",
        "param_grid = {\n",
        "    'learning_rate': [0.01, 0.1, 1],\n",
        "    'n_estimators': [20, 40]\n",
        "}"
      ],
      "execution_count": 20,
      "outputs": []
    },
    {
      "cell_type": "code",
      "metadata": {
        "id": "l1YNgtTIn3sd",
        "colab_type": "code",
        "colab": {
          "base_uri": "https://localhost:8080/",
          "height": 34
        },
        "outputId": "d30f4e11-9cd3-404e-947b-c4082234bf64"
      },
      "source": [
        "gbm = GridSearchCV(estimator, param_grid)\n",
        "gbm.fit(X_train, y_train)\n",
        "print('Best parameters found by grid search are:', gbm.best_params_)"
      ],
      "execution_count": 23,
      "outputs": [
        {
          "output_type": "stream",
          "text": [
            "Best parameters found by grid search are: {'learning_rate': 0.1, 'n_estimators': 40}\n"
          ],
          "name": "stdout"
        }
      ]
    }
  ]
}