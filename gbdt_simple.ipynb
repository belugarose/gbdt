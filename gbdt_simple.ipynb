{
  "nbformat": 4,
  "nbformat_minor": 0,
  "metadata": {
    "colab": {
      "name": "gbdt_simple.ipynb",
      "provenance": [],
      "collapsed_sections": [],
      "authorship_tag": "ABX9TyPW36x04rHbo4b7miZ2PVHu",
      "include_colab_link": true
    },
    "kernelspec": {
      "name": "python3",
      "display_name": "Python 3"
    }
  },
  "cells": [
    {
      "cell_type": "markdown",
      "metadata": {
        "id": "view-in-github",
        "colab_type": "text"
      },
      "source": [
        "<a href=\"https://colab.research.google.com/github/belugarose/gbdt/blob/master/gbdt_simple.ipynb\" target=\"_parent\"><img src=\"https://colab.research.google.com/assets/colab-badge.svg\" alt=\"Open In Colab\"/></a>"
      ]
    },
    {
      "cell_type": "code",
      "metadata": {
        "id": "Qo1csnw5prG3",
        "colab_type": "code",
        "colab": {}
      },
      "source": [
        "import numpy as np\n",
        "import pandas as pd\n",
        "from sklearn import tree\n",
        "import matplotlib.pyplot as plt\n",
        "from sklearn.ensemble import GradientBoostingRegressor\n",
        "from sklearn.model_selection import train_test_split"
      ],
      "execution_count": 2,
      "outputs": []
    },
    {
      "cell_type": "code",
      "metadata": {
        "id": "JE9ZPAOYpzu7",
        "colab_type": "code",
        "colab": {}
      },
      "source": [
        "X = np.arange(1, 11)\n",
        "y = np.array([5.56, 5.70, 5.91, 6.40, 6.80, 7.05, 8.90, 8.70, 9.00, 9.05])"
      ],
      "execution_count": 3,
      "outputs": []
    },
    {
      "cell_type": "markdown",
      "metadata": {
        "id": "zN1zJSS2ErI-",
        "colab_type": "text"
      },
      "source": [
        "采用MSE作为损失函数，并且将树的深度设为1，决策树个数设为5，其他参数使用默认值"
      ]
    },
    {
      "cell_type": "code",
      "metadata": {
        "id": "P2cA0-2zBM5T",
        "colab_type": "code",
        "colab": {
          "base_uri": "https://localhost:8080/",
          "height": 170
        },
        "outputId": "f5405f7a-5b15-4f79-c65e-a4dfa43b3672"
      },
      "source": [
        "gbdt = GradientBoostingRegressor(n_estimators=5, max_depth=1)\n",
        "gbdt.fit(X.reshape(-1, 1), y)"
      ],
      "execution_count": 5,
      "outputs": [
        {
          "output_type": "execute_result",
          "data": {
            "text/plain": [
              "GradientBoostingRegressor(alpha=0.9, ccp_alpha=0.0, criterion='friedman_mse',\n",
              "                          init=None, learning_rate=0.1, loss='ls', max_depth=1,\n",
              "                          max_features=None, max_leaf_nodes=None,\n",
              "                          min_impurity_decrease=0.0, min_impurity_split=None,\n",
              "                          min_samples_leaf=1, min_samples_split=2,\n",
              "                          min_weight_fraction_leaf=0.0, n_estimators=5,\n",
              "                          n_iter_no_change=None, presort='deprecated',\n",
              "                          random_state=None, subsample=1.0, tol=0.0001,\n",
              "                          validation_fraction=0.1, verbose=0, warm_start=False)"
            ]
          },
          "metadata": {
            "tags": []
          },
          "execution_count": 5
        }
      ]
    },
    {
      "cell_type": "code",
      "metadata": {
        "id": "qEnuU0amyYXN",
        "colab_type": "code",
        "colab": {
          "base_uri": "https://localhost:8080/",
          "height": 299
        },
        "outputId": "3204043d-ec27-4ce5-9570-4167f8815cf9"
      },
      "source": [
        "tree.plot_tree(gbdt[0,0], filled=True)"
      ],
      "execution_count": 11,
      "outputs": [
        {
          "output_type": "execute_result",
          "data": {
            "text/plain": [
              "[Text(167.4, 163.07999999999998, 'X[0] <= 6.5\\nfriedman_mse = 1.911\\nsamples = 10\\nvalue = -0.0'),\n",
              " Text(83.7, 54.360000000000014, 'friedman_mse = 0.31\\nsamples = 6\\nvalue = -1.07'),\n",
              " Text(251.10000000000002, 54.360000000000014, 'friedman_mse = 0.018\\nsamples = 4\\nvalue = 1.605')]"
            ]
          },
          "metadata": {
            "tags": []
          },
          "execution_count": 11
        },
        {
          "output_type": "display_data",
          "data": {
            "image/png": "[encoded data removed]",
            "text/plain": [
              "<Figure size 432x288 with 1 Axes>"
            ]
          },
          "metadata": {
            "tags": [],
            "needs_background": "light"
          }
        }
      ]
    },
    {
      "cell_type": "markdown",
      "metadata": {
        "id": "o-iuHMdiB0_Y",
        "colab_type": "text"
      },
      "source": [
        "以下是根据GBDT**回归算法**原理的分布拆解"
      ]
    },
    {
      "cell_type": "code",
      "metadata": {
        "id": "NB8-tLWuClJk",
        "colab_type": "code",
        "colab": {
          "base_uri": "https://localhost:8080/",
          "height": 51
        },
        "outputId": "c6ef1f48-4e33-49ca-f6ed-d7ea03df7e43"
      },
      "source": [
        "y - y.mean()"
      ],
      "execution_count": 12,
      "outputs": [
        {
          "output_type": "execute_result",
          "data": {
            "text/plain": [
              "array([-1.747, -1.607, -1.397, -0.907, -0.507, -0.257,  1.593,  1.393,\n",
              "        1.693,  1.743])"
            ]
          },
          "metadata": {
            "tags": []
          },
          "execution_count": 12
        }
      ]
    },
    {
      "cell_type": "markdown",
      "metadata": {
        "id": "WB-fS9tn5Kcg",
        "colab_type": "text"
      },
      "source": [
        "对于这组残差拟合第一棵树。根据所给的数据，可以考虑的切分点为1.5～9.5.分别计算y-F(x1)的值，并计算出切分后的左右两侧加和MSE最小的切分，最后得到的是6.5"
      ]
    },
    {
      "cell_type": "code",
      "metadata": {
        "id": "9JQ8hIWb5OJi",
        "colab_type": "code",
        "colab": {
          "base_uri": "https://localhost:8080/",
          "height": 51
        },
        "outputId": "f7f44877-e8e5-4815-e24f-42d674f92e3d"
      },
      "source": [
        "print((y-y.mean())[:6].mean(), (y-y.mean())[6:10].mean())\n",
        "print(((y-y.mean())**2).mean(), ((y[:6]-y[:6].mean())**2).mean(), ((y[6:10]-y[6:10].mean())**2).mean())"
      ],
      "execution_count": 16,
      "outputs": [
        {
          "output_type": "stream",
          "text": [
            "-1.0703333333333338 1.6054999999999997\n",
            "1.9114210000000003 0.30968888888888885 0.017968750000000124\n"
          ],
          "name": "stdout"
        }
      ]
    }
  ]
}