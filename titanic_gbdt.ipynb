{
  "nbformat": 4,
  "nbformat_minor": 0,
  "metadata": {
    "colab": {
      "name": "GBDT.ipynb",
      "provenance": [],
      "collapsed_sections": [],
      "mount_file_id": "1k5AMALTUaoGaCvzi1ZnxeSbg796ZnBhk",
      "authorship_tag": "ABX9TyMV1AyIPC1NF47LG/MJ8Tf5",
      "include_colab_link": true
    },
    "kernelspec": {
      "name": "python3",
      "display_name": "Python 3"
    }
  },
  "cells": [
    {
      "cell_type": "markdown",
      "metadata": {
        "id": "view-in-github",
        "colab_type": "text"
      },
      "source": [
        "<a href=\"https://colab.research.google.com/github/belugarose/gbdt/blob/master/titanic_gbdt.ipynb\" target=\"_parent\"><img src=\"https://colab.research.google.com/assets/colab-badge.svg\" alt=\"Open In Colab\"/></a>"
      ]
    },
    {
      "cell_type": "code",
      "metadata": {
        "id": "dFVq9E3YPhpx",
        "colab_type": "code",
        "colab": {}
      },
      "source": [
        "import pandas as pd\n",
        "import numpy as np\n",
        "from sklearn.ensemble import GradientBoostingClassifier\n",
        "from sklearn.model_selection import GridSearchCV, cross_val_score\n",
        "from sklearn.preprocessing import LabelEncoder\n",
        "from sklearn import metrics\n",
        "\n",
        "import matplotlib.pyplot as plt\n",
        "from matplotlib.pyplot import rcParams]]"
      ],
      "execution_count": 8,
      "outputs": []
    },
    {
      "cell_type": "markdown",
      "metadata": {
        "id": "RkJ-pYpPgGJd",
        "colab_type": "text"
      },
      "source": [
        "## 数据的预处理"
      ]
    },
    {
      "cell_type": "code",
      "metadata": {
        "id": "qpGbDzcYq3Ew",
        "colab_type": "code",
        "colab": {}
      },
      "source": [
        "filepath = \"/content/train.csv\"\n",
        "train_df = pd.read_csv(filepath)\n",
        "train_df.drop(columns=[\"Name\", 'Ticket', 'Fare', 'Cabin'], inplace=True)\n",
        "train_df.dropna(axis=0, how='any', thresh=None, subset=None, inplace=True)\n",
        "\n",
        "train_df[['Sex', 'Embarked']] = train_df[['Sex', 'Embarked']].apply(LabelEncoder().fit_transform)"
      ],
      "execution_count": 113,
      "outputs": []
    },
    {
      "cell_type": "code",
      "metadata": {
        "id": "_8tm5G9JZ_D6",
        "colab_type": "code",
        "colab": {}
      },
      "source": [
        "target = \"Survived\"\n",
        "predictors = [x for x in train_df.columns if x not in [target, \"PassengerId\"]]"
      ],
      "execution_count": 32,
      "outputs": []
    },
    {
      "cell_type": "code",
      "metadata": {
        "id": "WC2NsUjXQWNO",
        "colab_type": "code",
        "colab": {}
      },
      "source": [
        "def fit(model, train, predictors, performCV=True, printFeatureImportance=True, cv_folds=5):\n",
        "  model.fit(train[predictors], train[target])\n",
        "\n",
        "  # Predict training set\n",
        "  train_predictions = model.predict(train[predictors])\n",
        "  train_predprob = model.predict_proba(train[predictors])[:, 1]\n",
        "\n",
        "  # Perform cross-validation\n",
        "  if performCV:\n",
        "    cv_score = cross_val_score(model, train[predictors], train[target], cv=cv_folds, scoring='roc_auc')\n",
        "\n",
        "  print(\"Model Report\")\n",
        "  print(\"Accuracy : %.4g\" % metrics.accuracy_score(train[target].values, train_predictions))\n",
        "  print(\"AUC Score (Train): %f\" % metrics.roc_auc_score(train[target], train_predprob))\n",
        "\n",
        "  if performCV:\n",
        "    print(\"CV Score : Mean - %.7g | Std - %.7g | Min - %.7g | Max - %.7g\" % (np.mean(cv_score),np.std(cv_score),np.min(cv_score),np.max(cv_score)))\n",
        "\n",
        "  #Print Feature Importance:\n",
        "  if printFeatureImportance:\n",
        "    feat_imp = pd.Series(model.feature_importances_, predictors).sort_values(ascending=False)\n",
        "    feat_imp.plot(kind='bar', title='Feature Importances')\n",
        "    plt.ylabel('Feature Importance Score')"
      ],
      "execution_count": 117,
      "outputs": []
    },
    {
      "cell_type": "code",
      "metadata": {
        "id": "garU_tMOYL4V",
        "colab_type": "code",
        "colab": {
          "base_uri": "https://localhost:8080/",
          "height": 390
        },
        "outputId": "16405468-5e22-4308-9ae9-3543704b8e84"
      },
      "source": [
        "gbm = GradientBoostingClassifier(random_state=10)\n",
        "fit(gbm, train_df, predictors)"
      ],
      "execution_count": 118,
      "outputs": [
        {
          "output_type": "stream",
          "text": [
            "Model Report\n",
            "Accuracy : 0.8736\n",
            "AUC Score (Train): 0.940735\n",
            "CV Score : Mean - 0.8707268 | Std - 0.03928301 | Min - 0.8274848 | Max - 0.9436576\n"
          ],
          "name": "stdout"
        },
        {
          "output_type": "display_data",
          "data": {
            "image/png": "[encoded data removed]",
            "text/plain": [
              "<Figure size 432x288 with 1 Axes>"
            ]
          },
          "metadata": {
            "tags": [],
            "needs_background": "light"
          }
        }
      ]
    },
    {
      "cell_type": "markdown",
      "metadata": {
        "id": "kBeuvB80iG5V",
        "colab_type": "text"
      },
      "source": [
        "## 参数调节"
      ]
    },
    {
      "cell_type": "markdown",
      "metadata": {
        "id": "awU7CjEkiZNw",
        "colab_type": "text"
      },
      "source": [
        "接下来我们来调节树参数和boosting参数。下面的步骤是一个例子。\n",
        "- 选择一个相对来说高一点的lr。一般默认的值是0.1，针对不同的问题，0.05到0.2之间都可以。\n",
        "- 当前lr下最优的决定树数量。大概在40-70之间。\n",
        "- 降低lr，同时增加相应的决定树数量让模型更加稳健。"
      ]
    },
    {
      "cell_type": "markdown",
      "metadata": {
        "id": "L3LvHDJozj_W",
        "colab_type": "text"
      },
      "source": [
        "### 使用GridSearchCV调参"
      ]
    },
    {
      "cell_type": "markdown",
      "metadata": {
        "id": "2LMA9oDe2ldm",
        "colab_type": "text"
      },
      "source": [
        "首先根据lr的默认值0.1来找到所需要的最佳的决定树数量。"
      ]
    },
    {
      "cell_type": "code",
      "metadata": {
        "id": "Cp0TVXyiiK5b",
        "colab_type": "code",
        "colab": {
          "base_uri": "https://localhost:8080/"
        },
        "outputId": "0d2fb2b9-7c89-4775-e026-3d49c4f5b0c4"
      },
      "source": [
        "param_test1 = {'n_estimators':range(10, 300, 10)}\n",
        "gsearch1 = GridSearchCV(estimator = GradientBoostingClassifier(learning_rate=0.1, min_samples_split=60,min_samples_leaf=10,max_depth=8,max_features='sqrt',subsample=0.8,random_state=10), param_grid=param_test1, scoring='roc_auc',n_jobs=4,cv=5)\n",
        "\n",
        "gsearch1.fit(train_df[predictors],train_df[target])"
      ],
      "execution_count": 176,
      "outputs": [
        {
          "output_type": "execute_result",
          "data": {
            "text/plain": [
              "GridSearchCV(cv=5, error_score=nan,\n",
              "             estimator=GradientBoostingClassifier(ccp_alpha=0.0,\n",
              "                                                  criterion='friedman_mse',\n",
              "                                                  init=None, learning_rate=0.1,\n",
              "                                                  loss='deviance', max_depth=8,\n",
              "                                                  max_features='sqrt',\n",
              "                                                  max_leaf_nodes=None,\n",
              "                                                  min_impurity_decrease=0.0,\n",
              "                                                  min_impurity_split=None,\n",
              "                                                  min_samples_leaf=10,\n",
              "                                                  min_samples_split=60,\n",
              "                                                  min_weight_fraction_leaf=0.0,\n",
              "                                                  n_estimators=100,\n",
              "                                                  n_iter_no_change=None,\n",
              "                                                  presort='deprecated',\n",
              "                                                  random_state=10,\n",
              "                                                  subsample=0.8, tol=0.0001,\n",
              "                                                  validation_fraction=0.1,\n",
              "                                                  verbose=0, warm_start=False),\n",
              "             iid='deprecated', n_jobs=4,\n",
              "             param_grid={'n_estimators': range(10, 300, 10)},\n",
              "             pre_dispatch='2*n_jobs', refit=True, return_train_score=False,\n",
              "             scoring='roc_auc', verbose=0)"
            ]
          },
          "metadata": {
            "tags": []
          },
          "execution_count": 176
        }
      ]
    },
    {
      "cell_type": "code",
      "metadata": {
        "id": "wWyjWQuRkBUF",
        "colab_type": "code",
        "colab": {
          "base_uri": "https://localhost:8080/",
          "height": 153
        },
        "outputId": "37a7cc76-4e79-40dc-9f8b-dafa5799267c"
      },
      "source": [
        "gsearch1.cv_results_['mean_test_score'], gsearch1.best_params_, gsearch1.best_score_"
      ],
      "execution_count": 178,
      "outputs": [
        {
          "output_type": "execute_result",
          "data": {
            "text/plain": [
              "(array([0.86133109, 0.86723176, 0.87201357, 0.87489069, 0.87376683,\n",
              "        0.87208319, 0.87319326, 0.87297713, 0.87088933, 0.86960033,\n",
              "        0.86913001, 0.86724815, 0.86768812, 0.86630968, 0.86480559,\n",
              "        0.86255526, 0.86292939, 0.86154032, 0.86001852, 0.85911799,\n",
              "        0.85850591, 0.85992846, 0.85929241, 0.85990586, 0.85944175,\n",
              "        0.85837597, 0.85730977, 0.8578417 , 0.8564995 ]),\n",
              " {'n_estimators': 40},\n",
              " 0.8748906876725282)"
            ]
          },
          "metadata": {
            "tags": []
          },
          "execution_count": 178
        }
      ]
    },
    {
      "cell_type": "markdown",
      "metadata": {
        "id": "pveADm-F7DGY",
        "colab_type": "text"
      },
      "source": [
        "确定了决定树的数量之后可以按照这些步骤调节参数\n",
        "1. 调节max_depth, min_samples_split\n",
        "2. 调节min_samples_leaf\n",
        "3. 调节max_features"
      ]
    },
    {
      "cell_type": "code",
      "metadata": {
        "id": "XRH46od47BRQ",
        "colab_type": "code",
        "colab": {
          "base_uri": "https://localhost:8080/",
          "height": 102
        },
        "outputId": "28940845-35f7-4431-92f1-089d8feccad3"
      },
      "source": [
        "param_test2 = {'max_depth': range(5, 20, 1)}\n",
        "gsearch2 = GridSearchCV(estimator = GradientBoostingClassifier(learning_rate=0.1,n_estimators=35,min_samples_split=60,min_samples_leaf=10,max_features='sqrt',subsample=0.8,random_state=10), param_grid=param_test2, scoring='roc_auc',n_jobs=4,cv=5)\n",
        "\n",
        "gsearch2.fit(train_df[predictors],train_df[target])\n",
        "gsearch2.cv_results_['mean_test_score'], gsearch2.best_params_, gsearch2.best_score_"
      ],
      "execution_count": 145,
      "outputs": [
        {
          "output_type": "execute_result",
          "data": {
            "text/plain": [
              "(array([0.87509856, 0.87141455, 0.87395338, 0.87514363, 0.87119504,\n",
              "        0.87277754, 0.87316635, 0.87324891, 0.87324891, 0.87324891,\n",
              "        0.87324891, 0.87324891, 0.87324891, 0.87324891, 0.87324891]),\n",
              " {'max_depth': 8},\n",
              " 0.8751436273238877)"
            ]
          },
          "metadata": {
            "tags": []
          },
          "execution_count": 145
        }
      ]
    },
    {
      "cell_type": "code",
      "metadata": {
        "id": "A1Fuytr4_zBe",
        "colab_type": "code",
        "colab": {
          "base_uri": "https://localhost:8080/",
          "height": 102
        },
        "outputId": "26ae054d-30ea-4614-b98a-786886a1ba95"
      },
      "source": [
        "param_test3 = {'min_samples_split': range(5, 80, 5)}\n",
        "gsearch3 = GridSearchCV(estimator = GradientBoostingClassifier(learning_rate=0.1,n_estimators=35,max_depth=8,min_samples_leaf=10,max_features='sqrt',subsample=0.8,random_state=10), param_grid=param_test3, scoring='roc_auc',n_jobs=4,cv=5)\n",
        "\n",
        "gsearch3.fit(train_df[predictors],train_df[target])\n",
        "gsearch3.cv_results_['mean_test_score'], gsearch3.best_params_, gsearch3.best_score_"
      ],
      "execution_count": 165,
      "outputs": [
        {
          "output_type": "execute_result",
          "data": {
            "text/plain": [
              "(array([0.86918609, 0.86918609, 0.86918609, 0.86918609, 0.87109596,\n",
              "        0.87174987, 0.87201336, 0.87158122, 0.8721708 , 0.86970816,\n",
              "        0.87096548, 0.87514363, 0.87104576, 0.8736416 , 0.87223669]),\n",
              " {'min_samples_split': 60},\n",
              " 0.8751436273238877)"
            ]
          },
          "metadata": {
            "tags": []
          },
          "execution_count": 165
        }
      ]
    },
    {
      "cell_type": "markdown",
      "metadata": {
        "id": "Pzs62dNLJANS",
        "colab_type": "text"
      },
      "source": [
        "调的差不多了，就可以接着去调整lr和树的数量了。我试着把lr调至0.01，树的数目增加至10倍。"
      ]
    },
    {
      "cell_type": "code",
      "metadata": {
        "id": "QWG49QbeC39W",
        "colab_type": "code",
        "colab": {
          "base_uri": "https://localhost:8080/",
          "height": 390
        },
        "outputId": "a6ccefd1-6261-48a7-e21d-2262ff4eaef7"
      },
      "source": [
        "gbm = GradientBoostingClassifier(learning_rate=0.005,n_estimators=1200,max_depth=8,min_samples_split=60,min_samples_leaf=10,max_features='sqrt',subsample=0.8,random_state=10)\n",
        "fit(gbm, train_df, predictors)"
      ],
      "execution_count": 198,
      "outputs": [
        {
          "output_type": "stream",
          "text": [
            "Model Report\n",
            "Accuracy : 0.8581\n",
            "AUC Score (Train): 0.932599\n",
            "CV Score : Mean - 0.8737536 | Std - 0.03156261 | Min - 0.8419878 | Max - 0.9342159\n"
          ],
          "name": "stdout"
        },
        {
          "output_type": "display_data",
          "data": {
            "image/png": "[encoded data removed]",
            "text/plain": [
              "<Figure size 432x288 with 1 Axes>"
            ]
          },
          "metadata": {
            "tags": [],
            "needs_background": "light"
          }
        }
      ]
    }
  ]
}